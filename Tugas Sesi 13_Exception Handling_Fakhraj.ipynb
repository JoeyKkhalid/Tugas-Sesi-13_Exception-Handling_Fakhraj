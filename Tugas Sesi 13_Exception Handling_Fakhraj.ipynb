{
 "cells": [
  {
   "cell_type": "markdown",
   "metadata": {},
   "source": [
    "<p>1. Kapan pengecualian bawaan berikut dimunculkan? Berikan contoh untuk mendukung jawaban Anda. (score = 70)</p>\n",
    "<ul>\n",
    "    <li>ImportError</li>\n",
    "    <li>IOError</li>\n",
    "    <li>NameError</li>\n",
    "    <li>ZeroDivisionError</li>\n",
    " \n",
    "<p>2. Jelaskan hal berikut: (score = 30)</p>\n",
    "<ul>\n",
    "    <li>Exception Handling</li>\n",
    "    <li>Menangkap exception</li>\n",
    "\n",
    "<h3>a. ImportError</h3>\n",
    "    \n",
    "<p>ImportError terjadi ketika sebuah program mencoba untuk mengimport modul atau paket yang tidak ditemukan atau tidak dapat diakses. Hal ini dapat terjadi karena modul atau paket tersebut tidak ada dalam sistem, atau karena tidak ada dalam PYTHONPATH (lokasi dimana Python mencari modul dan paket) atau karena terdapat kesalahan pada nama modul atau paket yang diimport. Contoh:</p>"
   ]
  },
  {
   "cell_type": "code",
   "execution_count": 5,
   "metadata": {},
   "outputs": [
    {
     "ename": "ModuleNotFoundError",
     "evalue": "No module named 'modulSaya'",
     "output_type": "error",
     "traceback": [
      "\u001b[1;31m---------------------------------------------------------------------------\u001b[0m",
      "\u001b[1;31mModuleNotFoundError\u001b[0m                       Traceback (most recent call last)",
      "\u001b[1;32m<ipython-input-5-54aea9fecaa6>\u001b[0m in \u001b[0;36m<module>\u001b[1;34m\u001b[0m\n\u001b[0;32m      1\u001b[0m \u001b[1;31m# akan error karena modul mymodule tidak ada\u001b[0m\u001b[1;33m\u001b[0m\u001b[1;33m\u001b[0m\u001b[1;33m\u001b[0m\u001b[0m\n\u001b[1;32m----> 2\u001b[1;33m \u001b[1;32mimport\u001b[0m \u001b[0mmodulSaya\u001b[0m\u001b[1;33m\u001b[0m\u001b[1;33m\u001b[0m\u001b[0m\n\u001b[0m",
      "\u001b[1;31mModuleNotFoundError\u001b[0m: No module named 'modulSaya'"
     ]
    }
   ],
   "source": [
    "# akan error karena modul mymodule tidak ada\n",
    "import modulSaya"
   ]
  },
  {
   "cell_type": "markdown",
   "metadata": {},
   "source": [
    "<h3>b. IOError</h3>\n",
    "\n",
    "<p>IOError terjadi ketika sebuah program mengalami masalah saat melakukan operasi input/output seperti membaca atau menulis file. Hal ini dapat terjadi karena file yang akan dibaca atau ditulis tidak ditemukan, tidak dapat diakses karena hak akses yang tidak cukup, atau karena masalah lainnya seperti masalah jaringan atau masalah perangkat keras. Contoh:</P>"
   ]
  },
  {
   "cell_type": "code",
   "execution_count": 6,
   "metadata": {},
   "outputs": [
    {
     "ename": "FileNotFoundError",
     "evalue": "[Errno 2] No such file or directory: 'file.txt'",
     "output_type": "error",
     "traceback": [
      "\u001b[1;31m---------------------------------------------------------------------------\u001b[0m",
      "\u001b[1;31mFileNotFoundError\u001b[0m                         Traceback (most recent call last)",
      "\u001b[1;32m<ipython-input-6-e3d9aacf073d>\u001b[0m in \u001b[0;36m<module>\u001b[1;34m\u001b[0m\n\u001b[0;32m      1\u001b[0m \u001b[1;31m# akan error karena file tersebut tidak ada\u001b[0m\u001b[1;33m\u001b[0m\u001b[1;33m\u001b[0m\u001b[1;33m\u001b[0m\u001b[0m\n\u001b[0;32m      2\u001b[0m \u001b[1;31m# FileNotFoundError merupakan subclass dari IOError\u001b[0m\u001b[1;33m\u001b[0m\u001b[1;33m\u001b[0m\u001b[1;33m\u001b[0m\u001b[0m\n\u001b[1;32m----> 3\u001b[1;33m \u001b[0ma\u001b[0m \u001b[1;33m=\u001b[0m \u001b[0mopen\u001b[0m\u001b[1;33m(\u001b[0m\u001b[1;34m\"file.txt\"\u001b[0m\u001b[1;33m,\u001b[0m \u001b[1;34m\"r\"\u001b[0m\u001b[1;33m)\u001b[0m\u001b[1;33m\u001b[0m\u001b[1;33m\u001b[0m\u001b[0m\n\u001b[0m",
      "\u001b[1;31mFileNotFoundError\u001b[0m: [Errno 2] No such file or directory: 'file.txt'"
     ]
    }
   ],
   "source": [
    "# akan error karena file tersebut tidak ada\n",
    "# FileNotFoundError merupakan subclass dari IOError\n",
    "a = open(\"file.txt\", \"r\")"
   ]
  },
  {
   "cell_type": "markdown",
   "metadata": {},
   "source": [
    "<h3>c. NameError</h3>\n",
    "\n",
    "<p>NameError terjadi ketika sebuah variabel atau fungsi yang tidak didefinisikan diakses oleh program. Hal ini dapat terjadi karena kesalahan ketik atau karena sebuah variabel atau fungsi belum didefinisikan sebelum digunakan dalam program. Contoh:</p>"
   ]
  },
  {
   "cell_type": "code",
   "execution_count": 7,
   "metadata": {},
   "outputs": [
    {
     "ename": "NameError",
     "evalue": "name 'varKu' is not defined",
     "output_type": "error",
     "traceback": [
      "\u001b[1;31m---------------------------------------------------------------------------\u001b[0m",
      "\u001b[1;31mNameError\u001b[0m                                 Traceback (most recent call last)",
      "\u001b[1;32m<ipython-input-7-4ef2450df175>\u001b[0m in \u001b[0;36m<module>\u001b[1;34m\u001b[0m\n\u001b[0;32m      1\u001b[0m \u001b[1;31m# akan error karena variabel varKu tidak pernah didefinisikan\u001b[0m\u001b[1;33m\u001b[0m\u001b[1;33m\u001b[0m\u001b[1;33m\u001b[0m\u001b[0m\n\u001b[1;32m----> 2\u001b[1;33m \u001b[0mprint\u001b[0m\u001b[1;33m(\u001b[0m\u001b[0mvarKu\u001b[0m\u001b[1;33m)\u001b[0m\u001b[1;33m\u001b[0m\u001b[1;33m\u001b[0m\u001b[0m\n\u001b[0m",
      "\u001b[1;31mNameError\u001b[0m: name 'varKu' is not defined"
     ]
    }
   ],
   "source": [
    "# akan error karena variabel varKu tidak pernah didefinisikan\n",
    "print(varKu)"
   ]
  },
  {
   "cell_type": "markdown",
   "metadata": {},
   "source": [
    "<h3>d. ZeroDivisionError</h3>\n",
    "\n",
    "<p>ZeroDivisionError terjadi ketika sebuah bilangan dibagi dengan nol. Hal ini tidak dapat dilakukan dalam matematika, dan akan menyebabkan error dalam program. Contoh:</p>"
   ]
  },
  {
   "cell_type": "code",
   "execution_count": 8,
   "metadata": {},
   "outputs": [
    {
     "ename": "SyntaxError",
     "evalue": "invalid syntax (<ipython-input-8-a4e4221704ee>, line 2)",
     "output_type": "error",
     "traceback": [
      "\u001b[1;36m  File \u001b[1;32m\"<ipython-input-8-a4e4221704ee>\"\u001b[1;36m, line \u001b[1;32m2\u001b[0m\n\u001b[1;33m    ZeroDivisionError terjadi ketika sebuah bilangan dibagi dengan nol. Hal ini tidak dapat dilakukan dalam matematika, dan akan menyebabkan error dalam program. Contoh:\u001b[0m\n\u001b[1;37m                      ^\u001b[0m\n\u001b[1;31mSyntaxError\u001b[0m\u001b[1;31m:\u001b[0m invalid syntax\n"
     ]
    }
   ],
   "source": [
    "d. ZeroDivisionError\n",
    "ZeroDivisionError terjadi ketika sebuah bilangan dibagi dengan nol. Hal ini tidak dapat dilakukan dalam matematika, dan akan menyebabkan error dalam program. Contoh:"
   ]
  },
  {
   "cell_type": "markdown",
   "metadata": {},
   "source": [
    "<h3>2\n",
    "a Exception Handling</h3>\n",
    "\n",
    "<p>Exception Handling adalah suatu proses menangani error yang mungkin terjadi dalam sebuah program. Hal ini dilakukan dengan menggunakan perintah try dan except yang digunakan untuk mengeksekusi kode yang mungkin menyebabkan error dan memberikan aksi yang sesuai jika terjadi error. Contoh:</p>"
   ]
  },
  {
   "cell_type": "code",
   "execution_count": 9,
   "metadata": {},
   "outputs": [
    {
     "name": "stdout",
     "output_type": "stream",
     "text": [
      "Tidak bisa melakukan pembagian\n"
     ]
    }
   ],
   "source": [
    "try:\n",
    "   a = 1/0\n",
    "except:\n",
    "   print(\"Tidak bisa melakukan pembagian\")"
   ]
  },
  {
   "cell_type": "markdown",
   "metadata": {},
   "source": [
    "<p>Pada contoh diatas, kode dalam blok try akan dicoba untuk dieksekusi. Jika terjadi error, maka kode dalam blok except akan dieksekusi.</p>"
   ]
  },
  {
   "cell_type": "markdown",
   "metadata": {},
   "source": [
    "<h3>b Menangkap Exception</h3>\n",
    "\n",
    "<P>Menangkap exception berarti mencoba mendeteksi error-error tertentu yang mungkin terjadi dalam suatu kode program. Sebagai contoh, kita ingin mendeteksi error apabila kita ingin mengakses suatu karakter pada string dengan index yang tidak ada. Maka kita dapat menambahkan exception IndexError setelah except. Sebagai contoh:</P>"
   ]
  },
  {
   "cell_type": "code",
   "execution_count": 13,
   "metadata": {},
   "outputs": [
    {
     "name": "stdout",
     "output_type": "stream",
     "text": [
      "Masukan text: asiap\n",
      "Tidak terdapat karakter dengan index ke 100 'asiap'\n"
     ]
    }
   ],
   "source": [
    "try:\n",
    "    a = input(\"Masukan text: \")\n",
    "    print(a[100])\n",
    "except IndexError:\n",
    "   print(f\"Tidak terdapat karakter dengan index ke 100 '{a}'\")"
   ]
  },
  {
   "cell_type": "markdown",
   "metadata": {},
   "source": [
    "Pada program diatas, kita mencoba menangkap exception IndexError yang kemungkinan terjadi jika panjang string kurang dari 101"
   ]
  }
 ],
 "metadata": {
  "kernelspec": {
   "display_name": "Python 3",
   "language": "python",
   "name": "python3"
  },
  "language_info": {
   "codemirror_mode": {
    "name": "ipython",
    "version": 3
   },
   "file_extension": ".py",
   "mimetype": "text/x-python",
   "name": "python",
   "nbconvert_exporter": "python",
   "pygments_lexer": "ipython3",
   "version": "3.8.5"
  }
 },
 "nbformat": 4,
 "nbformat_minor": 5
}
